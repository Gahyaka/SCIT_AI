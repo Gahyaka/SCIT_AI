{
  "cells": [
    {
      "cell_type": "markdown",
      "metadata": {},
      "source": [
        "## **Bab 1: Pengenalan dan Pembuatan Array NumPy**"
      ]
    },
    {
      "cell_type": "markdown",
      "metadata": {},
      "source": [
        "*1.1. Apa itu NumPy dan Keunggulannya?*"
      ]
    },
    {
      "cell_type": "markdown",
      "metadata": {},
      "source": [
        "**NumPy** (singkatan dari Numerical Python) adalah library fundamental di Python untuk komputasi saintifik. Objek utamanya adalah `ndarray` (n-dimensional array), yaitu sebuah tabel data yang semua isinya harus memiliki **tipe data yang sama**.\n",
        "\n",
        "Bayangkan sebuah List di Python bisa diisi berbagai macam data (angka, tulisan, dll). Nah, NumPy Array lebih spesifik, seperti sebuah kotak yang hanya bisa diisi oleh satu tipe data saja. Hal ini memberikan beberapa keuntungan besar dibanding List biasa:\n",
        "\n",
        "- **Kecepatan**: Operasi matematika di NumPy jauh lebih cepat karena dieksekusi menggunakan bahasa C yang lebih efisien.\n",
        "\n",
        "- **Memori**: NumPy Array membutuhkan ruang memori yang lebih sedikit daripada List Python untuk jumlah data yang sama.\n",
        "\n",
        "- **Kenyamanan**: Memungkinkan kita melakukan operasi matematika pada seluruh data sekaligus tanpa perlu menulis perulangan (loop). Konsep ini disebut Vectorization."
      ]
    },
    {
      "cell_type": "markdown",
      "metadata": {},
      "source": [
        "*1.2. Membuat Array 1 Dimensi dari List*"
      ]
    },
    {
      "cell_type": "code",
      "execution_count": null,
      "metadata": {},
      "outputs": [
        {
          "name": "stdout",
          "output_type": "stream",
          "text": [
            "Ini adalah List Python: [1, 2, 3, 4, 5]\n",
            "Ini adalah Array NumPy 1D: [1 2 3 4 5]\n",
            "Tipe data list_python: <class 'list'>\n",
            "Tipe data array_numpy: <class 'numpy.ndarray'>\n",
            "Operasi matematika pada list: [1, 2, 3, 4, 5, 1, 2, 3, 4, 5]\n",
            "Operasi matematika pada ndarray: [ 2  4  6  8 10]\n"
          ]
        }
      ],
      "source": [
        "# Pertama, kita import library NumPy dengan alias 'np' (ini adalah standar umum)\n",
        "import numpy as np\n",
        "\n",
        "# Sebuah list Python biasa\n",
        "list_python = [1, 2, 3, 4, 5]\n",
        "\n",
        "# Mengubah list menjadi array NumPy\n",
        "array_numpy1 = np.array(list_python)\n",
        "\n",
        "print(f\"Ini adalah List Python: {list_python}\")\n",
        "print(f\"Ini adalah Array NumPy 1D: {array_numpy1}\")\n",
        "print(f\"Tipe data list_python: {type(list_python)}\")\n",
        "print(f\"Tipe data array_numpy: {type(array_numpy1)}\")\n",
        "\n",
        "# Perbedaan list biasa dengan ndarray\n",
        "print(f\"Operasi matematika pada list: {list_python * 2}\")\n",
        "print(f\"Operasi matematika pada ndarray: {array_numpy1 * 2}\")"
      ]
    },
    {
      "cell_type": "markdown",
      "metadata": {},
      "source": [
        "*1.3. Membuat Array 2D dan 3D*"
      ]
    },
    {
      "cell_type": "code",
      "execution_count": null,
      "metadata": {},
      "outputs": [
        {
          "name": "stdout",
          "output_type": "stream",
          "text": [
            "Ini adalah Array NumPy 2D:\n",
            " [[1 2 3]\n",
            " [4 5 6]]\n",
            "\n",
            "\n",
            "Ini adalah Array NumPy 3D:\n",
            " [[[ 1  2  3]\n",
            "  [ 4  5  6]]\n",
            "\n",
            " [[ 7  8  9]\n",
            "  [10 11 12]]]\n"
          ]
        }
      ],
      "source": [
        "# Membuat array 2 dimensi (punya baris dan kolom)\n",
        "array_numpy2 = np.array([[1, 2, 3], [4, 5, 6]])\n",
        "print(f\"Ini adalah Array NumPy 2D:\\n {array_numpy2}\")\n",
        "print(\"\\n\")\n",
        "\n",
        "# Membuat array 3 dimensi (dengan bentuk (depth, row, column) = (2, 2, 3))\n",
        "array_numpy3 = np.array([\n",
        "    [[1, 2, 3], [4, 5, 6]],\n",
        "    [[7, 8, 9], [10, 11, 12]]\n",
        "    ])\n",
        "print(f\"Ini adalah Array NumPy 3D:\\n {array_numpy3}\")"
      ]
    },
    {
      "cell_type": "markdown",
      "metadata": {},
      "source": [
        "*1.4. Membuat Array dengan Fungsi Bawaan*"
      ]
    },
    {
      "cell_type": "code",
      "execution_count": null,
      "metadata": {},
      "outputs": [
        {
          "name": "stdout",
          "output_type": "stream",
          "text": [
            "Array berisi angka nol: [0. 0. 0. 0. 0.]\n",
            "Array berisi angka satu 2D:\n",
            " [[1. 1.]\n",
            " [1. 1.]\n",
            " [1. 1.]]\n",
            "Array berisi angka custom:\n",
            " [[5 5 5]\n",
            " [5 5 5]]\n",
            "Matrix identitas 4x4:\n",
            " [[1. 0. 0. 0.]\n",
            " [0. 1. 0. 0.]\n",
            " [0. 0. 1. 0.]\n",
            " [0. 0. 0. 1.]]\n",
            "Array dengan rentang nilai: [0 2 4 6 8]\n",
            "Array dengan jarak yang sama: [0.  0.5 1.  1.5 2. ]\n"
          ]
        }
      ],
      "source": [
        "import numpy as np\n",
        "\n",
        "# Membuat array berisi angka 0\n",
        "array_nol = np.zeros(5)\n",
        "print(f\"Array berisi angka nol: {array_nol}\")\n",
        "\n",
        "# Membuat array berisi angka 1\n",
        "array_satu2 = np.ones((3, 2))\n",
        "print(f\"Array berisi angka satu 2D:\\n {array_satu2}\")\n",
        "\n",
        "# Membuat array berisi 1 angka custom yang sama (contoh: 5)\n",
        "array_custom = np.full((2, 3), 5)\n",
        "print(f\"Array berisi angka custom:\\n {array_custom}\")\n",
        "\n",
        "# Membuat matrix identitas\n",
        "array_eye = np.eye(4)\n",
        "print(f\"Matrix identitas 4x4:\\n {array_eye}\")\n",
        "\n",
        "# Membuat array dengan rentang nilai (dari 0 hingga sebelum 10, dengan langkah 2)\n",
        "# Mirip seperti fungsi range() di Python\n",
        "array_rentang = np.arange(0, 10, 2)\n",
        "print(f\"Array dengan rentang nilai: {array_rentang}\")\n",
        "\n",
        "# Membuat array berisi angka-angka dengan jarak yang sama besar di antara nilai awal dan nilai akhir (start, end, num)\n",
        "array_linspace = np.linspace(0, 2, 5)\n",
        "print(f\"Array dengan jarak yang sama: {array_linspace}\")"
      ]
    },
    {
      "cell_type": "markdown",
      "metadata": {},
      "source": [
        "## **Bab 2: Atribut dan Manipulasi Bentuk Array**"
      ]
    },
    {
      "cell_type": "markdown",
      "metadata": {},
      "source": [
        "*2.1. Mengetahui Atribut Array*"
      ]
    },
    {
      "cell_type": "code",
      "execution_count": null,
      "metadata": {},
      "outputs": [
        {
          "name": "stdout",
          "output_type": "stream",
          "text": [
            "Jumlah dimensi: 2\n",
            "Bentuk array: (2, 4)\n",
            "Total elemen: 8\n",
            "Tipe data elemen: int64\n"
          ]
        }
      ],
      "source": [
        "import numpy as np\n",
        "\n",
        "arr_2d = np.array([[1, 2, 3, 4], [5, 6, 7, 8]])\n",
        "\n",
        "# .ndim: Mengetahui jumlah dimensi\n",
        "print(f\"Jumlah dimensi: {arr_2d.ndim}\")\n",
        "\n",
        "# .shape: Mengetahui bentuk array (jumlah baris, jumlah kolom)\n",
        "print(f\"Bentuk array: {arr_2d.shape}\")\n",
        "\n",
        "# .size: Mengetahui total elemen dalam array\n",
        "print(f\"Total elemen: {arr_2d.size}\")\n",
        "\n",
        "# .dtype: Mengetahui tipe data elemen di dalam array\n",
        "print(f\"Tipe data elemen: {arr_2d.dtype}\")"
      ]
    },
    {
      "cell_type": "markdown",
      "metadata": {},
      "source": [
        "*2.2. Mengubah Bentuk Array (.reshape)*"
      ]
    },
    {
      "cell_type": "code",
      "execution_count": null,
      "metadata": {},
      "outputs": [
        {
          "name": "stdout",
          "output_type": "stream",
          "text": [
            "Array asli (1D): [ 0  1  2  3  4  5  6  7  8  9 10 11]\n",
            "Array setelah di-reshape (3, 4):\n",
            " [[ 0  1  2  3]\n",
            " [ 4  5  6  7]\n",
            " [ 8  9 10 11]]\n"
          ]
        }
      ],
      "source": [
        "import numpy as np\n",
        "\n",
        "# Array 1D dengan 12 elemen (0 sampai 11)\n",
        "arr = np.arange(12)\n",
        "print(f\"Array asli (1D): {arr}\")\n",
        "\n",
        "# Mengubah bentuknya menjadi matriks 3 baris dan 4 kolom\n",
        "arr_reshaped = arr.reshape(3, 4)\n",
        "print(\"Array setelah di-reshape (3, 4):\\n\", arr_reshaped)"
      ]
    },
    {
      "cell_type": "markdown",
      "metadata": {},
      "source": [
        "## **Bab 3: Operasi Matematika (Vectorization)**"
      ]
    },
    {
      "cell_type": "markdown",
      "metadata": {},
      "source": [
        "Vectorization adalah teknik untuk menghindari loop eksplisit (for/while loop) dengan menggantinya menggunakan operasi array yang dijalankan secara paralel di level bawah (biasanya ditulis dalam C di balik layar).\n",
        "\n",
        "Tujuan Vectorization:\n",
        "* Lebih cepat (karena pakai optimasi low-level).\n",
        "* Kode lebih singkat dan lebih mudah dibaca.\n",
        "* Lebih efisien secara memori."
      ]
    },
    {
      "cell_type": "markdown",
      "metadata": {},
      "source": [
        "### *3.1. Operasi Aritmatika Dasar (element-wise)*"
      ]
    },
    {
      "cell_type": "code",
      "execution_count": null,
      "metadata": {},
      "outputs": [
        {
          "name": "stdout",
          "output_type": "stream",
          "text": [
            "Penjumlahan: [12 24 36 48]\n",
            "Pengurangan: [ 8 16 24 32]\n",
            "Perkalian: [ 20  80 180 320]\n",
            "Pembagian: [5. 5. 5. 5.]\n",
            "Power: [ 100  400  900 1600]\n",
            "Clip: [4 4 6 7]\n"
          ]
        }
      ],
      "source": [
        "import numpy as np\n",
        "\n",
        "a = np.array([10, 20, 30, 40])\n",
        "b = np.array([2, 4, 6, 8])\n",
        "\n",
        "# Penjumlahan\n",
        "print(\"Penjumlahan:\", np.add(a, b))\n",
        "\n",
        "# Pengurangan\n",
        "print(\"Pengurangan:\", np.subtract(a, b))\n",
        "\n",
        "# Perkalian\n",
        "print(\"Perkalian:\", np.multiply(a, b))\n",
        "\n",
        "# Pembagian\n",
        "print(\"Pembagian:\", np.divide(a, b))\n",
        "\n",
        "# Setiap elemen dipangkatkan\n",
        "print(\"Power:\", np.power(a, 2))\n",
        "\n",
        "# Potong nilai agar dalam rentang [4,5]\n",
        "print(\"Clip:\", np.clip(b, 4, 7))"
      ]
    },
    {
      "cell_type": "markdown",
      "metadata": {},
      "source": [
        "### *3.2. Fungsi Matematika Universal (UFuncs)*"
      ]
    },
    {
      "cell_type": "code",
      "execution_count": null,
      "metadata": {},
      "outputs": [
        {
          "name": "stdout",
          "output_type": "stream",
          "text": [
            "Nilai absolut: [1. 0. 1. 2.]\n",
            "Akar kuadrat: [1.41421356 2.         2.44948974 2.82842712]\n",
            "Eksponensial: [   7.3890561    54.59815003  403.42879349 2980.95798704]\n",
            "Logaritma: [0.69314718 1.38629436 1.79175947 2.07944154]\n"
          ]
        }
      ],
      "source": [
        "import numpy as np\n",
        "\n",
        "a = np.array([-1.0, 0.0, 1.0, 2.0])\n",
        "b = np.array([2.0, 4.0, 6.0, 8.0])\n",
        "\n",
        "# Mengembalikan nilai absolut\n",
        "print(f\"Nilai absolut: {np.abs(a)}\")\n",
        "\n",
        "# Menghitung akar kuadrat (square root) setiap elemen\n",
        "print(f\"Akar kuadrat: {np.sqrt(b)}\")\n",
        "\n",
        "# Menghitung eksponensial (e^x) setiap elemen\n",
        "print(f\"Eksponensial: {np.exp(b)}\")\n",
        "\n",
        "# Menghitung logaritma natural setiap elemen\n",
        "print(f\"Logaritma: {np.log(b)}\")\n"
      ]
    },
    {
      "cell_type": "markdown",
      "metadata": {},
      "source": [
        "### *3.3. Statistik & Agregasi (menghitung ringkasan statistik)*"
      ]
    },
    {
      "cell_type": "code",
      "execution_count": null,
      "metadata": {},
      "outputs": [],
      "source": [
        "import numpy as np\n",
        "\n",
        "# Data awal\n",
        "\n",
        "data_nilai = np.array([50, 85, 92, 65, 78, 95])\n",
        "data_jam_belajar = np.array([3, 8, 9, 4, 6, 10])"
      ]
    },
    {
      "cell_type": "code",
      "execution_count": null,
      "metadata": {},
      "outputs": [
        {
          "name": "stdout",
          "output_type": "stream",
          "text": [
            "Rata-rata nilai: 77.5\n",
            "Median: 81.5\n",
            "Median (via percentile): 81.5\n",
            "Jumlah nilai: 465\n",
            "Nilai maksimum: 95\n",
            "Nilai minimum: 50\n",
            "Standar deviasi: 15.73\n",
            "Varians: 247.58\n"
          ]
        }
      ],
      "source": [
        "# Statistik dasar\n",
        "print(f\"Rata-rata nilai: {np.mean(data_nilai):.1f}\")\n",
        "print(f\"Median: {np.median(data_nilai)}\")\n",
        "print(f\"Median (via percentile): {np.percentile(data_nilai, 50)}\")\n",
        "print(f\"Jumlah nilai: {np.sum(data_nilai)}\")\n",
        "print(f\"Nilai maksimum: {np.max(data_nilai)}\")\n",
        "print(f\"Nilai minimum: {np.min(data_nilai)}\")\n",
        "print(f\"Standar deviasi: {np.std(data_nilai):.2f}\")\n",
        "print(f\"Varians: {np.var(data_nilai):.2f}\")"
      ]
    },
    {
      "cell_type": "code",
      "execution_count": null,
      "metadata": {},
      "outputs": [
        {
          "name": "stdout",
          "output_type": "stream",
          "text": [
            "Data Gabungan \n",
            "(Nilai vs Jam Belajar):\n",
            " [[50  3]\n",
            " [85  8]\n",
            " [92  9]\n",
            " [65  4]\n",
            " [78  6]\n",
            " [95 10]]\n"
          ]
        }
      ],
      "source": [
        "# Gabungan data untuk analisis hubungan\n",
        "data_gabungan = np.vstack((data_nilai, data_jam_belajar)).T\n",
        "print(\"Data Gabungan \\n(Nilai vs Jam Belajar):\\n\", data_gabungan)"
      ]
    },
    {
      "cell_type": "code",
      "execution_count": null,
      "metadata": {},
      "outputs": [
        {
          "name": "stdout",
          "output_type": "stream",
          "text": [
            "Matriks Korelasi:\n",
            "[[1.       0.976327]\n",
            " [0.976327 1.      ]]\n",
            "\n",
            "Matriks Kovarians:\n",
            "[[  7.86666667  47.2       ]\n",
            " [ 47.2        297.1       ]]\n"
          ]
        }
      ],
      "source": [
        "# Korelasi & Kovarians\n",
        "print(\"Matriks Korelasi:\")\n",
        "print(np.corrcoef(data_gabungan.T))\n",
        "\n",
        "print(\"\\nMatriks Kovarians:\")\n",
        "print(np.cov(data_jam_belajar, data_nilai))"
      ]
    },
    {
      "cell_type": "code",
      "execution_count": null,
      "metadata": {},
      "outputs": [
        {
          "name": "stdout",
          "output_type": "stream",
          "text": [
            "Index nilai maksimum (argmax): 5\n"
          ]
        }
      ],
      "source": [
        "# Index nilai maksimum\n",
        "print(\"Index nilai maksimum (argmax):\", np.argmax(data_nilai))"
      ]
    },
    {
      "cell_type": "markdown",
      "metadata": {},
      "source": [
        "### *3.4. Logika dan Seleksi*"
      ]
    },
    {
      "cell_type": "code",
      "execution_count": null,
      "metadata": {},
      "outputs": [
        {
          "name": "stdout",
          "output_type": "stream",
          "text": [
            "Jenis kopi yang pernah dipilih pelanggan: [0 1 2]\n"
          ]
        }
      ],
      "source": [
        "import numpy as np\n",
        "\n",
        "# Menampilkan data unik\n",
        "# Contoh data preferensi pelanggan:\n",
        "# 0 = Hitam, 1 = Susu, 2 = Mocha\n",
        "jenis_kopi = np.array([0, 1, 1, 0, 2, 1])\n",
        "print(\"Jenis kopi yang pernah dipilih pelanggan:\", np.unique(jenis_kopi))"
      ]
    },
    {
      "cell_type": "code",
      "execution_count": null,
      "metadata": {},
      "outputs": [
        {
          "name": "stdout",
          "output_type": "stream",
          "text": [
            "Rekomendasi kopi (rasa dengan peluang tertinggi): [1 2]\n"
          ]
        }
      ],
      "source": [
        "# Prediksi probabilitas untuk 2 pelanggan\n",
        "# Kolom: [Kopi Hitam, Kopi Susu, Kopi Mocha]\n",
        "data = np.array([\n",
        "         [0.1, 0.7, 0.2],   # Pelanggan 1\n",
        "         [0.2, 0.3, 0.5],   # Pelanggan 2\n",
        "         ])\n",
        "\n",
        "print(\"Rekomendasi kopi (rasa dengan peluang tertinggi):\", np.argmax(data, axis=1))"
      ]
    },
    {
      "cell_type": "code",
      "execution_count": null,
      "metadata": {},
      "outputs": [
        {
          "name": "stdout",
          "output_type": "stream",
          "text": [
            "Top Picks (peluang > 50%):\n",
            " [[0 1 0]\n",
            " [0 0 0]]\n"
          ]
        }
      ],
      "source": [
        "# rasa mana saja yang punya kemungkinan tinggi (di atas 50%), sehingga bisa ditampilkan sebagai \"Top Picks\"\n",
        "# Jika peluang > 0.5, beri 1 (ditampilkan), sisanya 0 (tidak direkomendasikan)\n",
        "top_picks = np.where(data > 0.5, 1, 0)\n",
        "print(\"Top Picks (peluang > 50%):\\n\", top_picks)"
      ]
    },
    {
      "cell_type": "markdown",
      "metadata": {},
      "source": [
        "### *3.5. Operasi Aljabar Linier (Linear Algebra)*\n",
        "\n",
        "Digunakan untuk operasi matematis dasar dalam model ML seperti neural networks, regresi linear, atau PCA."
      ]
    },
    {
      "cell_type": "code",
      "execution_count": null,
      "metadata": {},
      "outputs": [],
      "source": [
        "import numpy as np"
      ]
    },
    {
      "cell_type": "code",
      "execution_count": null,
      "metadata": {},
      "outputs": [
        {
          "name": "stdout",
          "output_type": "stream",
          "text": [
            "dot product dari 2 vektor: 32\n"
          ]
        }
      ],
      "source": [
        "# Dot product antara dua vektor atau matriks\n",
        "a = np.array([1, 2, 3])\n",
        "b = np.array([4, 5, 6])\n",
        "\n",
        "dot_product = np.dot(a, b)\n",
        "print(\"dot product dari 2 vektor:\", dot_product)\n",
        "# output -> (1x4 + 2x5 + 3x6)"
      ]
    },
    {
      "cell_type": "code",
      "execution_count": null,
      "metadata": {},
      "outputs": [
        {
          "name": "stdout",
          "output_type": "stream",
          "text": [
            " Hasil perkalian dengan np.matmul:\n",
            " [[19 22]\n",
            " [43 50]]\n",
            "Hasil perkalian dengan A @ B:\n",
            " [[19 22]\n",
            " [43 50]]\n"
          ]
        }
      ],
      "source": [
        "# Matrix multiplication (2D atau lebih)\n",
        "A = np.array([[1, 2], [3, 4]])\n",
        "B = np.array([[5, 6], [7, 8]])\n",
        "\n",
        "matmul_result = np.matmul(A, B)\n",
        "print(\" Hasil perkalian dengan np.matmul:\\n\", matmul_result)\n",
        "\n",
        "# atau pakai operator @\n",
        "print(\"Hasil perkalian dengan A @ B:\\n\", A @ B)"
      ]
    },
    {
      "cell_type": "code",
      "execution_count": null,
      "metadata": {},
      "outputs": [
        {
          "name": "stdout",
          "output_type": "stream",
          "text": [
            "Invers matriks:\n",
            " [[-2.   1. ]\n",
            " [ 1.5 -0.5]]\n"
          ]
        }
      ],
      "source": [
        "# Invers matriks (hanya untuk matriks bujur sangkar & tidak singular)\n",
        "M = np.array([[1, 2], [3, 4]])\n",
        "inv_M = np.linalg.inv(M)\n",
        "print(\"Invers matriks:\\n\", inv_M)"
      ]
    },
    {
      "cell_type": "code",
      "execution_count": null,
      "metadata": {},
      "outputs": [
        {
          "name": "stdout",
          "output_type": "stream",
          "text": [
            "Norma vektor: 5.0\n"
          ]
        }
      ],
      "source": [
        "# Menghitung Panjang / Frobenius norm dari vektor atau matriks\n",
        "v = np.array([3, 4])\n",
        "\n",
        "norm_v = np.linalg.norm(v)\n",
        "print(\"Norma vektor:\", norm_v)"
      ]
    },
    {
      "cell_type": "markdown",
      "metadata": {},
      "source": [
        "### *3.6. Operasi Matriks*"
      ]
    },
    {
      "cell_type": "code",
      "execution_count": null,
      "metadata": {},
      "outputs": [
        {
          "name": "stdout",
          "output_type": "stream",
          "text": [
            "addition\n",
            "[[ 2  4  6]\n",
            " [ 4  6 10]\n",
            " [12 14  9]]\n",
            "substraction\n",
            "[[ 0  0  0]\n",
            " [-4 -4 -2]\n",
            " [-2 -2 -9]]\n",
            "Multiplication\n",
            "[[ 1  4  9]\n",
            " [ 0  5 24]\n",
            " [35 48  0]]\n",
            "dot product\n",
            "[[30 36 42]\n",
            " [32 37 42]\n",
            " [29 40 51]]\n",
            "dot product\n",
            "[[30 36 42]\n",
            " [32 37 42]\n",
            " [29 40 51]]\n",
            "Matriks Transpose\n",
            "[[1 0 5]\n",
            " [2 1 6]\n",
            " [3 4 0]]\n",
            "Matriks Inverse\n",
            "[[-24.  18.   5.]\n",
            " [ 20. -15.  -4.]\n",
            " [ -5.   4.   1.]]\n",
            "Matriks Identitas\n",
            "[[ 1.00000000e+00 -2.66453526e-15  0.00000000e+00]\n",
            " [ 0.00000000e+00  1.00000000e+00  0.00000000e+00]\n",
            " [ 0.00000000e+00 -7.10542736e-15  1.00000000e+00]]\n"
          ]
        }
      ],
      "source": [
        "#Operasi Matriks\n",
        "import numpy as np\n",
        "X = np.array([[1, 2, 3],\n",
        "              [0, 1, 4],\n",
        "              [5, 6, 0]])\n",
        "Y = np.array([[1,2,3],\n",
        "              [4,5,6],\n",
        "              [7,8,9]])\n",
        "\n",
        "print(\"addition\")\n",
        "Z_add=X+Y\n",
        "print(Z_add)\n",
        "print(\"substraction\")\n",
        "Z_subs=X-Y\n",
        "print(Z_subs)\n",
        "print(\"Multiplication\")\n",
        "Z_multi=X*Y\n",
        "print(Z_multi)\n",
        "print(\"dot product\")\n",
        "Z_dot_1=X@Y\n",
        "print(Z_dot_1)\n",
        "print(\"dot product\")\n",
        "Z_dot_2=np.dot(X,Y)\n",
        "print(Z_dot_2)\n",
        "print(\"Matriks Transpose\")\n",
        "Z_transpose=X.T\n",
        "print(Z_transpose)\n",
        "print(\"Matriks Inverse\")\n",
        "Z_inverse=np.linalg.inv(X)\n",
        "print(Z_inverse)\n",
        "print(\"Matriks Identitas\")\n",
        "I=X@X_inverse\n",
        "print(I)"
      ]
    },
    {
      "cell_type": "markdown",
      "metadata": {},
      "source": [
        "## **Bab 4: Indexing dan Slicing**"
      ]
    },
    {
      "cell_type": "markdown",
      "metadata": {},
      "source": [
        "*4.1. Mengakses Elemen (Indexing)*"
      ]
    },
    {
      "cell_type": "code",
      "execution_count": null,
      "metadata": {},
      "outputs": [
        {
          "name": "stdout",
          "output_type": "stream",
          "text": [
            "Elemen ke-2 dari arr_1d: 11\n",
            "Elemen pada baris 1, kolom 2 dari arr_2d: 2\n"
          ]
        }
      ],
      "source": [
        "import numpy as np\n",
        "\n",
        "# Array 1 Dimensi\n",
        "arr_1d = np.array([10, 11, 12, 13, 14])\n",
        "print(f\"Elemen ke-2 dari arr_1d: {arr_1d[1]}\") # Mengambil elemen kedua\n",
        "\n",
        "# Array 2 Dimensi (matriks)\n",
        "arr_2d = np.array([[1, 2, 3], [4, 5, 6], [7, 8, 9]])\n",
        "# Formatnya adalah array[baris, kolom]\n",
        "print(f\"Elemen pada baris 1, kolom 2 dari arr_2d: {arr_2d[0, 1]}\") # Mengambil angka 2"
      ]
    },
    {
      "cell_type": "markdown",
      "metadata": {},
      "source": [
        "*4.2. Mengambil Sebagian Elemen (Slicing)*"
      ]
    },
    {
      "cell_type": "code",
      "execution_count": null,
      "metadata": {},
      "outputs": [
        {
          "name": "stdout",
          "output_type": "stream",
          "text": [
            "Slicing 1D: [2 3 4]\n",
            "Slicing 2D:\n",
            " [[1 2]\n",
            " [4 5]]\n"
          ]
        }
      ],
      "source": [
        "import numpy as np\n",
        "\n",
        "arr = np.arange(10) # Membuat array [0, 1, 2, 3, 4, 5, 6, 7, 8, 9]\n",
        "\n",
        "# Mengambil elemen dari indeks 2 hingga sebelum indeks 5\n",
        "# formatya array[start:end]\n",
        "print(f\"Slicing 1D: {arr[2:5]}\")\n",
        "\n",
        "# Mengambil sebagian dari array 2D\n",
        "arr_2d = np.array([[1, 2, 3], [4, 5, 6], [7, 8, 9]])\n",
        "\n",
        "# Mengambil 2 baris pertama dan 2 kolom pertama\n",
        "# Baris: 0 hingga sebelum 2. Kolom: 0 hingga sebelum 2.\n",
        "print(\"Slicing 2D:\\n\", arr_2d[0:2, 0:2])"
      ]
    },
    {
      "cell_type": "markdown",
      "metadata": {},
      "source": [
        "*4.3. Boolean Indexing*"
      ]
    },
    {
      "cell_type": "code",
      "execution_count": null,
      "metadata": {},
      "outputs": [
        {
          "name": "stdout",
          "output_type": "stream",
          "text": [
            "Kondisi boolean (lulus > 75): [False  True  True False  True  True]\n",
            "Nilai yang lulus: [85 92 78 95]\n"
          ]
        }
      ],
      "source": [
        "import numpy as np\n",
        "\n",
        "data_nilai = np.array([50, 85, 92, 65, 78, 95])\n",
        "\n",
        "# Membuat kondisi boolean\n",
        "lulus = data_nilai > 75\n",
        "print(f\"Kondisi boolean (lulus > 75): {lulus}\")\n",
        "\n",
        "# Menggunakan kondisi tersebut untuk menyaring array asli\n",
        "print(f\"Nilai yang lulus: {data_nilai[lulus]}\")"
      ]
    },
    {
      "cell_type": "markdown",
      "metadata": {},
      "source": [
        "## **Bab 5: Studi Kasus: Contoh Latihan dengan Jawaban**"
      ]
    },
    {
      "cell_type": "markdown",
      "metadata": {},
      "source": [
        "*Soal #1: Analisis Data Penjualan*\n",
        "\n",
        "Buatlah sebuah array NumPy yang merepresentasikan data penjualan harian (dalam ribu Rupiah) sebuah toko selama seminggu: [150, 200, 180, 220, 250, 300, 280]. Hitunglah total penjualan selama seminggu, rata-rata penjualan harian, dan penjualan tertinggi yang terjadi."
      ]
    },
    {
      "cell_type": "code",
      "execution_count": null,
      "metadata": {},
      "outputs": [
        {
          "name": "stdout",
          "output_type": "stream",
          "text": [
            "Total Penjualan: Rp1580 ribu\n",
            "Rata-rata Penjualan: Rp225.71 ribu\n",
            "Penjualan Tertinggi: Rp300 ribu\n"
          ]
        }
      ],
      "source": [
        "import numpy as np\n",
        "\n",
        "# 1. Membuat array data penjualan\n",
        "penjualan = np.array([150, 200, 180, 220, 250, 300, 280])\n",
        "\n",
        "# 2. Menghitung statistik\n",
        "total = np.sum(penjualan)\n",
        "rata_rata = np.mean(penjualan)\n",
        "tertinggi = np.max(penjualan)\n",
        "\n",
        "print(f\"Total Penjualan: Rp{total} ribu\")\n",
        "print(f\"Rata-rata Penjualan: Rp{rata_rata:.2f} ribu\")\n",
        "print(f\"Penjualan Tertinggi: Rp{tertinggi} ribu\")"
      ]
    },
    {
      "cell_type": "markdown",
      "metadata": {},
      "source": [
        "*Soal #2: Konversi Suhu Sensor*\n",
        "\n",
        "Anda memiliki data suhu dari sebuah sensor dalam Celcius: [25.5, 26.1, -99.0, 27.2, 24.9, -99.0]. Nilai -99.0 adalah data error. Saring data untuk membuang nilai error, lalu konversi semua suhu yang valid ke Fahrenheit. Rumus: F=C\n",
        "times\n",
        "frac95+32."
      ]
    },
    {
      "cell_type": "code",
      "execution_count": null,
      "metadata": {},
      "outputs": [
        {
          "name": "stdout",
          "output_type": "stream",
          "text": [
            "Suhu valid (Celcius): [25.5 26.1 27.2 24.9]\n",
            "Suhu dalam Fahrenheit: [77.9  78.98 80.96 76.82]\n"
          ]
        }
      ],
      "source": [
        "import numpy as np\n",
        "\n",
        "# 1. Membuat array data suhu\n",
        "suhu_celcius = np.array([25.5, 26.1, -99.0, 27.2, 24.9, -99.0])\n",
        "\n",
        "# 2. Menyaring data error menggunakan boolean indexing\n",
        "suhu_valid = suhu_celcius[suhu_celcius > 0]\n",
        "print(f\"Suhu valid (Celcius): {suhu_valid}\")\n",
        "\n",
        "# 3. Mengonversi suhu valid ke Fahrenheit (vectorization)\n",
        "suhu_fahrenheit = suhu_valid * (9/5) + 32\n",
        "\n",
        "print(f\"Suhu dalam Fahrenheit: {np.round(suhu_fahrenheit, 2)}\")"
      ]
    },
    {
      "cell_type": "markdown",
      "metadata": {},
      "source": [
        "**Bab 6: Latihan Mandiri**"
      ]
    },
    {
      "cell_type": "markdown",
      "metadata": {},
      "source": [
        "*Studi Kasus: Diskon Harga*\n",
        "\n",
        "Anda memiliki daftar harga beberapa barang dalam sebuah array NumPy: [50000, 120000, 75000, 250000, 95000]. Toko sedang mengadakan diskon sebesar 15%. Buatlah array baru yang berisi harga setelah diskon.\n",
        "\n",
        "Tugas:\n",
        "\n",
        "- Buat array NumPy untuk daftar harga tersebut.\n",
        "\n",
        "- Hitung harga setelah diskon 15% untuk semua barang menggunakan operasi vectorization.\n",
        "\n",
        "- Tampilkan array harga akhir."
      ]
    }
  ],
  "metadata": {
    "colab": {
      "provenance": []
    },
    "kernelspec": {
      "display_name": "Python 3",
      "name": "python3"
    },
    "language_info": {
      "name": "python"
    }
  },
  "nbformat": 4,
  "nbformat_minor": 0
}
